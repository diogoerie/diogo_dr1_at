{
 "cells": [
  {
   "cell_type": "code",
   "execution_count": 130,
   "id": "87cf912d",
   "metadata": {},
   "outputs": [],
   "source": [
    "import numpy\n",
    "import pandas\n",
    "import seaborn\n",
    "from matplotlib import pyplot\n",
    "from ucimlrepo import fetch_ucirepo\n",
    "from sklearn.model_selection import train_test_split\n",
    "from sklearn.preprocessing import StandardScaler\n",
    "from sklearn.neighbors import KNeighborsClassifier\n",
    "from sklearn.metrics import accuracy_score, confusion_matrix, roc_auc_score, roc_curve\n",
    "from sklearn.model_selection import cross_val_score, StratifiedKFold\n",
    "from sklearn.metrics import precision_score, recall_score, f1_score, roc_auc_score"
   ]
  },
  {
   "cell_type": "code",
   "execution_count": 114,
   "id": "214062ba",
   "metadata": {},
   "outputs": [],
   "source": [
    "cdc = fetch_ucirepo(id=891)\n",
    "X = cdc.data.features\n",
    "y = cdc.data.targets\n",
    "\n",
    "df = pandas.concat([X, y], axis=1)\n",
    "df.rename(columns={'Diabetes_binary': 'y'}, inplace=True)"
   ]
  },
  {
   "cell_type": "code",
   "execution_count": 115,
   "id": "5ebf1734",
   "metadata": {},
   "outputs": [
    {
     "name": "stdout",
     "output_type": "stream",
     "text": [
      "Variaveis explicativas : ['Smoker', 'BMI', 'Fruits', 'Veggies', 'PhysActivity']\n"
     ]
    }
   ],
   "source": [
    "feature_cols = ['Smoker', 'BMI', 'Fruits', 'Veggies', 'PhysActivity']\n",
    "print(\"Variaveis explicativas :\", feature_cols)\n"
   ]
  },
  {
   "cell_type": "code",
   "execution_count": 116,
   "id": "48ae090f",
   "metadata": {},
   "outputs": [
    {
     "data": {
      "text/html": [
       "<div>\n",
       "<style scoped>\n",
       "    .dataframe tbody tr th:only-of-type {\n",
       "        vertical-align: middle;\n",
       "    }\n",
       "\n",
       "    .dataframe tbody tr th {\n",
       "        vertical-align: top;\n",
       "    }\n",
       "\n",
       "    .dataframe thead th {\n",
       "        text-align: right;\n",
       "    }\n",
       "</style>\n",
       "<table border=\"1\" class=\"dataframe\">\n",
       "  <thead>\n",
       "    <tr style=\"text-align: right;\">\n",
       "      <th></th>\n",
       "      <th>Smoker</th>\n",
       "      <th>BMI</th>\n",
       "      <th>Fruits</th>\n",
       "      <th>Veggies</th>\n",
       "      <th>PhysActivity</th>\n",
       "      <th>y</th>\n",
       "    </tr>\n",
       "  </thead>\n",
       "  <tbody>\n",
       "    <tr>\n",
       "      <th>count</th>\n",
       "      <td>253680.000000</td>\n",
       "      <td>253680.000000</td>\n",
       "      <td>253680.000000</td>\n",
       "      <td>253680.000000</td>\n",
       "      <td>253680.000000</td>\n",
       "      <td>253680.000000</td>\n",
       "    </tr>\n",
       "    <tr>\n",
       "      <th>mean</th>\n",
       "      <td>0.443169</td>\n",
       "      <td>28.382364</td>\n",
       "      <td>0.634256</td>\n",
       "      <td>0.811420</td>\n",
       "      <td>0.756544</td>\n",
       "      <td>0.139333</td>\n",
       "    </tr>\n",
       "    <tr>\n",
       "      <th>std</th>\n",
       "      <td>0.496761</td>\n",
       "      <td>6.608694</td>\n",
       "      <td>0.481639</td>\n",
       "      <td>0.391175</td>\n",
       "      <td>0.429169</td>\n",
       "      <td>0.346294</td>\n",
       "    </tr>\n",
       "    <tr>\n",
       "      <th>min</th>\n",
       "      <td>0.000000</td>\n",
       "      <td>12.000000</td>\n",
       "      <td>0.000000</td>\n",
       "      <td>0.000000</td>\n",
       "      <td>0.000000</td>\n",
       "      <td>0.000000</td>\n",
       "    </tr>\n",
       "    <tr>\n",
       "      <th>25%</th>\n",
       "      <td>0.000000</td>\n",
       "      <td>24.000000</td>\n",
       "      <td>0.000000</td>\n",
       "      <td>1.000000</td>\n",
       "      <td>1.000000</td>\n",
       "      <td>0.000000</td>\n",
       "    </tr>\n",
       "    <tr>\n",
       "      <th>50%</th>\n",
       "      <td>0.000000</td>\n",
       "      <td>27.000000</td>\n",
       "      <td>1.000000</td>\n",
       "      <td>1.000000</td>\n",
       "      <td>1.000000</td>\n",
       "      <td>0.000000</td>\n",
       "    </tr>\n",
       "    <tr>\n",
       "      <th>75%</th>\n",
       "      <td>1.000000</td>\n",
       "      <td>31.000000</td>\n",
       "      <td>1.000000</td>\n",
       "      <td>1.000000</td>\n",
       "      <td>1.000000</td>\n",
       "      <td>0.000000</td>\n",
       "    </tr>\n",
       "    <tr>\n",
       "      <th>max</th>\n",
       "      <td>1.000000</td>\n",
       "      <td>98.000000</td>\n",
       "      <td>1.000000</td>\n",
       "      <td>1.000000</td>\n",
       "      <td>1.000000</td>\n",
       "      <td>1.000000</td>\n",
       "    </tr>\n",
       "  </tbody>\n",
       "</table>\n",
       "</div>"
      ],
      "text/plain": [
       "              Smoker            BMI         Fruits        Veggies  \\\n",
       "count  253680.000000  253680.000000  253680.000000  253680.000000   \n",
       "mean        0.443169      28.382364       0.634256       0.811420   \n",
       "std         0.496761       6.608694       0.481639       0.391175   \n",
       "min         0.000000      12.000000       0.000000       0.000000   \n",
       "25%         0.000000      24.000000       0.000000       1.000000   \n",
       "50%         0.000000      27.000000       1.000000       1.000000   \n",
       "75%         1.000000      31.000000       1.000000       1.000000   \n",
       "max         1.000000      98.000000       1.000000       1.000000   \n",
       "\n",
       "        PhysActivity              y  \n",
       "count  253680.000000  253680.000000  \n",
       "mean        0.756544       0.139333  \n",
       "std         0.429169       0.346294  \n",
       "min         0.000000       0.000000  \n",
       "25%         1.000000       0.000000  \n",
       "50%         1.000000       0.000000  \n",
       "75%         1.000000       0.000000  \n",
       "max         1.000000       1.000000  "
      ]
     },
     "metadata": {},
     "output_type": "display_data"
    },
    {
     "name": "stdout",
     "output_type": "stream",
     "text": [
      "Distribuição da variavel-alvo (%):\n",
      "y\n",
      "0    86.066698\n",
      "1    13.933302\n",
      "Name: proportion, dtype: float64\n"
     ]
    }
   ],
   "source": [
    "display(df[feature_cols + ['y']].describe())\n",
    "print(\"Distribuição da variavel-alvo (%):\")\n",
    "print(100 * df.y.value_counts(normalize=True))\n"
   ]
  },
  {
   "cell_type": "code",
   "execution_count": 117,
   "id": "5534909d",
   "metadata": {},
   "outputs": [
    {
     "data": {
      "image/png": "[encoded data removed]",
      "text/plain": [
       "<Figure size 219.361x200 with 2 Axes>"
      ]
     },
     "metadata": {},
     "output_type": "display_data"
    }
   ],
   "source": [
    "selected_for_plot = ['BMI']\n",
    "_ = seaborn.pairplot(df[selected_for_plot + ['y']],hue='y',palette={0: 'lightcoral', 1: 'limegreen'},height=2.0)\n"
   ]
  },
  {
   "cell_type": "code",
   "execution_count": 118,
   "id": "d07a604e",
   "metadata": {},
   "outputs": [
    {
     "data": {
      "text/html": [
       "<div>\n",
       "<style scoped>\n",
       "    .dataframe tbody tr th:only-of-type {\n",
       "        vertical-align: middle;\n",
       "    }\n",
       "\n",
       "    .dataframe tbody tr th {\n",
       "        vertical-align: top;\n",
       "    }\n",
       "\n",
       "    .dataframe thead th {\n",
       "        text-align: right;\n",
       "    }\n",
       "</style>\n",
       "<table border=\"1\" class=\"dataframe\">\n",
       "  <thead>\n",
       "    <tr style=\"text-align: right;\">\n",
       "      <th>y</th>\n",
       "      <th>0</th>\n",
       "      <th>1</th>\n",
       "      <th>diff</th>\n",
       "    </tr>\n",
       "  </thead>\n",
       "  <tbody>\n",
       "    <tr>\n",
       "      <th>BMI</th>\n",
       "      <td>27.0</td>\n",
       "      <td>31.0</td>\n",
       "      <td>4.0</td>\n",
       "    </tr>\n",
       "    <tr>\n",
       "      <th>Smoker</th>\n",
       "      <td>0.0</td>\n",
       "      <td>1.0</td>\n",
       "      <td>1.0</td>\n",
       "    </tr>\n",
       "    <tr>\n",
       "      <th>Fruits</th>\n",
       "      <td>1.0</td>\n",
       "      <td>1.0</td>\n",
       "      <td>0.0</td>\n",
       "    </tr>\n",
       "    <tr>\n",
       "      <th>Veggies</th>\n",
       "      <td>1.0</td>\n",
       "      <td>1.0</td>\n",
       "      <td>0.0</td>\n",
       "    </tr>\n",
       "    <tr>\n",
       "      <th>PhysActivity</th>\n",
       "      <td>1.0</td>\n",
       "      <td>1.0</td>\n",
       "      <td>0.0</td>\n",
       "    </tr>\n",
       "  </tbody>\n",
       "</table>\n",
       "</div>"
      ],
      "text/plain": [
       "y                0     1  diff\n",
       "BMI           27.0  31.0   4.0\n",
       "Smoker         0.0   1.0   1.0\n",
       "Fruits         1.0   1.0   0.0\n",
       "Veggies        1.0   1.0   0.0\n",
       "PhysActivity   1.0   1.0   0.0"
      ]
     },
     "metadata": {},
     "output_type": "display_data"
    }
   ],
   "source": [
    "centros = df.groupby('y')[feature_cols].median().T\n",
    "centros['diff'] = abs(centros[1] - centros[0])\n",
    "centros = centros.sort_values('diff', ascending=False)\n",
    "display(centros)\n",
    "\n",
    "x_cols_sorted = centros.index.tolist()"
   ]
  },
  {
   "cell_type": "code",
   "execution_count": 119,
   "id": "5b6ce549",
   "metadata": {},
   "outputs": [
    {
     "data": {
      "image/png": "[encoded data removed]",
      "text/plain": [
       "<Figure size 500x500 with 1 Axes>"
      ]
     },
     "metadata": {},
     "output_type": "display_data"
    }
   ],
   "source": [
    "variaveis_numericas = []\n",
    "\n",
    "for col in x_cols_sorted:\n",
    "    if df[col].nunique() > 5:\n",
    "        variaveis_numericas.append(col)\n",
    "\n",
    "num_graficos = len(variaveis_numericas)\n",
    "\n",
    "largura_figura = 5 * num_graficos\n",
    "altura_figura = 5\n",
    "\n",
    "fig, axs = pyplot.subplots(nrows=1,ncols=num_graficos,figsize=(largura_figura, altura_figura))\n",
    "if len(variaveis_numericas) == 1:\n",
    "    axs = [axs]\n",
    "\n",
    "for i, ax in enumerate(axs):\n",
    "    seaborn.boxplot(data=df, x='y', y=variaveis_numericas[i], ax=ax,hue='y', dodge=False, palette=['lightcoral', 'limegreen'])\n",
    "    ax.set_title(variaveis_numericas[i])\n",
    "    ax.grid(True, linestyle='--', linewidth=0.5)\n"
   ]
  },
  {
   "cell_type": "code",
   "execution_count": 120,
   "id": "14ab7e83",
   "metadata": {},
   "outputs": [
    {
     "name": "stdout",
     "output_type": "stream",
     "text": [
      "Variáveis utilizadas no modelo: ['BMI', 'Smoker']\n"
     ]
    }
   ],
   "source": [
    "select_by_center_stat = True\n",
    "if select_by_center_stat:\n",
    "    model_cols = x_cols_sorted[:2]\n",
    "else:\n",
    "    model_cols = feature_cols\n",
    "\n",
    "print(\"Variáveis utilizadas no modelo:\", model_cols)\n"
   ]
  },
  {
   "cell_type": "code",
   "execution_count": 121,
   "id": "ea34d02a",
   "metadata": {},
   "outputs": [],
   "source": [
    "X_model = df[feature_cols].to_numpy()\n",
    "y_model = df['y'].to_numpy()\n",
    "\n",
    "X_train, X_test, y_train, y_test = train_test_split(\n",
    "    X_model, y_model, stratify=y_model, test_size=0.2, random_state=42)\n",
    "\n"
   ]
  },
  {
   "cell_type": "code",
   "execution_count": 122,
   "id": "b52bb71c",
   "metadata": {},
   "outputs": [],
   "source": [
    "scaler = StandardScaler()\n",
    "X_train_scaled = scaler.fit_transform(X_train)\n",
    "X_test_scaled = scaler.transform(X_test)\n"
   ]
  },
  {
   "cell_type": "code",
   "execution_count": 123,
   "id": "12ee2e26",
   "metadata": {},
   "outputs": [
    {
     "name": "stdout",
     "output_type": "stream",
     "text": [
      "Acurácia inicial com k=7: 85.01%\n"
     ]
    }
   ],
   "source": [
    "k = 7\n",
    "knn = KNeighborsClassifier(n_neighbors=k, metric='minkowski', weights='uniform')\n",
    "knn.fit(X_train_scaled, y_train)\n",
    "\n",
    "y_pred = knn.predict(X_test_scaled)\n",
    "accuracy = accuracy_score(y_test, y_pred)\n",
    "print(f'Acurácia inicial com k={k}: {100 * accuracy:.2f}%')\n"
   ]
  },
  {
   "cell_type": "code",
   "execution_count": 124,
   "id": "9ba618a6",
   "metadata": {},
   "outputs": [
    {
     "name": "stdout",
     "output_type": "stream",
     "text": [
      "Acurácia final com k=17: 85.81%\n"
     ]
    }
   ],
   "source": [
    "best_k = 17\n",
    "\n",
    "final_knn = KNeighborsClassifier(n_neighbors=best_k,metric='minkowski', weights='uniform')\n",
    "final_knn.fit(X_train_scaled, y_train)\n",
    "y_pred_final = final_knn.predict(X_test_scaled)\n",
    "\n",
    "accuracy_final = accuracy_score(y_test, y_pred_final)\n",
    "print(f'Acurácia final com k={best_k}: {100 * accuracy_final:.2f}%')\n"
   ]
  },
  {
   "cell_type": "code",
   "execution_count": 125,
   "id": "8741c2e2",
   "metadata": {},
   "outputs": [
    {
     "data": {
      "text/plain": [
       "<matplotlib.legend.Legend at 0x1a9866d46e0>"
      ]
     },
     "execution_count": 125,
     "metadata": {},
     "output_type": "execute_result"
    },
    {
     "data": {
      "image/png": "[encoded data removed]",
      "text/plain": [
       "<Figure size 500x400 with 1 Axes>"
      ]
     },
     "metadata": {},
     "output_type": "display_data"
    },
    {
     "data": {
      "image/png": "[encoded data removed]",
      "text/plain": [
       "<Figure size 600x500 with 1 Axes>"
      ]
     },
     "metadata": {},
     "output_type": "display_data"
    }
   ],
   "source": [
    "conf_matrix = confusion_matrix(y_test, y_pred_final)\n",
    "pyplot.figure(figsize=(5, 4))\n",
    "_ = seaborn.heatmap(conf_matrix, annot=True, cmap='Greens', cbar=False, fmt='d')\n",
    "pyplot.title(f'Matriz de Confusão | k = {best_k}')\n",
    "pyplot.xlabel('Previsto')\n",
    "pyplot.ylabel('Verdadeiro')\n",
    "\n",
    "y_proba = final_knn.predict_proba(X_test_scaled)[:, 1]\n",
    "fpr, tpr, thr = roc_curve(y_test, y_proba)\n",
    "roc_score = roc_auc_score(y_test, y_proba)\n",
    "\n",
    "pyplot.figure(figsize=(6, 5))\n",
    "pyplot.plot(fpr, tpr, color='darkgreen', label=f'Curva ROC (AUC = {roc_score:.2f})')\n",
    "pyplot.plot([0, 1], [0, 1], 'r--')\n",
    "pyplot.xlabel('Taxa de Falsos Positivos')\n",
    "pyplot.ylabel('Taxa de Verdadeiros Positivos')\n",
    "pyplot.title('Curva ROC – Risco de Diabetes')\n",
    "pyplot.grid(True)\n",
    "pyplot.legend()\n"
   ]
  },
  {
   "cell_type": "code",
   "execution_count": 129,
   "id": "b52d6596",
   "metadata": {},
   "outputs": [
    {
     "name": "stdout",
     "output_type": "stream",
     "text": [
      "Acurácia por dobra:\n",
      "  Dobra 1: 85.75%\n",
      "  Dobra 2: 85.83%\n",
      "  Dobra 3: 85.84%\n",
      "  Dobra 4: 85.80%\n",
      "  Dobra 5: 85.85%\n",
      "\n",
      "Acurácia média obtida durante a validação cruzada: 85.81%\n",
      "Desvio padrão entre as dobras: 0.04%\n"
     ]
    }
   ],
   "source": [
    "\n",
    "knn_cv = KNeighborsClassifier(n_neighbors=best_k, metric='minkowski', weights='uniform')\n",
    "cv = StratifiedKFold(n_splits=5, shuffle=True, random_state=42)\n",
    "cv_scores = cross_val_score(knn_cv, X_train_scaled, y_train, cv=cv, scoring='accuracy', n_jobs=-1)\n",
    "\n",
    "acuracias_formatadas = []\n",
    "for score in cv_scores:\n",
    "    acuracia_formatada = f\"{score * 100:.2f}%\"\n",
    "    acuracias_formatadas.append(acuracia_formatada)\n",
    "\n",
    "print(\"Acurácia por dobra:\")\n",
    "for i, acuracia in enumerate(acuracias_formatadas, start=1):\n",
    "    print(f\"  Dobra {i}: {acuracia}\")\n",
    "\n",
    "media_acuracia = cv_scores.mean() * 100\n",
    "print(f\"\\nAcurácia média obtida durante a validação cruzada: {media_acuracia:.2f}%\")\n",
    "\n",
    "desvio_padrao = cv_scores.std() * 100\n",
    "print(f\"Desvio padrão entre as dobras: {desvio_padrao:.2f}%\")\n"
   ]
  }
 ],
 "metadata": {
  "kernelspec": {
   "display_name": ".venv",
   "language": "python",
   "name": "python3"
  },
  "language_info": {
   "codemirror_mode": {
    "name": "ipython",
    "version": 3
   },
   "file_extension": ".py",
   "mimetype": "text/x-python",
   "name": "python",
   "nbconvert_exporter": "python",
   "pygments_lexer": "ipython3",
   "version": "3.12.7"
  }
 },
 "nbformat": 4,
 "nbformat_minor": 5
}
