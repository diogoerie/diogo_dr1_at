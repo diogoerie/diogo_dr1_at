{
 "cells": [
  {
   "cell_type": "code",
   "execution_count": 14,
   "id": "d40e99b6",
   "metadata": {},
   "outputs": [],
   "source": [
    "import numpy as np\n",
    "import pandas as pd\n",
    "from ucimlrepo import fetch_ucirepo\n",
    "from sklearn.model_selection import cross_val_score\n",
    "from sklearn.linear_model import LogisticRegression\n",
    "from sklearn.preprocessing import StandardScaler"
   ]
  },
  {
   "cell_type": "code",
   "execution_count": 19,
   "id": "f81d8664",
   "metadata": {},
   "outputs": [
    {
     "name": "stdout",
     "output_type": "stream",
     "text": [
      "Colunas disponíveis: Index(['Diabetes_binary'], dtype='object')\n",
      "Colunas das features ['Smoker', 'BMI', 'Fruits', 'Veggies', 'PhysActivity']\n"
     ]
    }
   ],
   "source": [
    "cdc = fetch_ucirepo(id=891)\n",
    "X = cdc.data.features\n",
    "y = cdc.data.targets\n",
    "\n",
    "df = pd.concat([X, y], axis=1)\n",
    "print(\"Colunas disponíveis:\", y.columns)\n",
    "\n",
    "feature_cols = ['Smoker', 'BMI', 'Fruits', 'Veggies', 'PhysActivity']\n",
    "print(\"Colunas das features\", feature_cols)\n",
    "X_model = df[feature_cols].to_numpy()\n",
    "y_model = df['Diabetes_binary'].values\n"
   ]
  },
  {
   "cell_type": "code",
   "execution_count": 16,
   "id": "6ef64e7f",
   "metadata": {},
   "outputs": [],
   "source": [
    "scaler = StandardScaler()\n",
    "X_scaled = scaler.fit_transform(X_model)\n"
   ]
  },
  {
   "cell_type": "code",
   "execution_count": 17,
   "id": "f8f14116",
   "metadata": {},
   "outputs": [],
   "source": [
    "logreg = LogisticRegression(max_iter=1000, solver='lbfgs')\n",
    "cv_scores = cross_val_score(logreg, X_scaled, y_model, cv=5, scoring='accuracy')\n"
   ]
  },
  {
   "cell_type": "code",
   "execution_count": 18,
   "id": "cb61704c",
   "metadata": {},
   "outputs": [
    {
     "name": "stdout",
     "output_type": "stream",
     "text": [
      "Acurácias por dobra: ['86.00%', '85.06%', '86.00%', '85.99%', '86.00%']\n",
      "Acurácia média: 85.81%\n",
      "Desvio padrão: 0.38%\n"
     ]
    }
   ],
   "source": [
    "acuracias_formatadas = [f\"{score * 100:.2f}%\" for score in cv_scores]\n",
    "media = f\"{cv_scores.mean() * 100:.2f}%\"\n",
    "desvio = f\"{cv_scores.std() * 100:.2f}%\"\n",
    "\n",
    "print(\"Acurácias por dobra:\", acuracias_formatadas)\n",
    "print(\"Acurácia média:\", media)\n",
    "print(\"Desvio padrão:\", desvio)\n"
   ]
  }
 ],
 "metadata": {
  "kernelspec": {
   "display_name": ".venv",
   "language": "python",
   "name": "python3"
  },
  "language_info": {
   "codemirror_mode": {
    "name": "ipython",
    "version": 3
   },
   "file_extension": ".py",
   "mimetype": "text/x-python",
   "name": "python",
   "nbconvert_exporter": "python",
   "pygments_lexer": "ipython3",
   "version": "3.12.7"
  }
 },
 "nbformat": 4,
 "nbformat_minor": 5
}
